{
 "cells": [
  {
   "cell_type": "markdown",
   "id": "4881a12e",
   "metadata": {},
   "source": [
    "#### 1.What are the two values of the Boolean data type? How do you write them?\n",
    "\n",
    "ANS : The two values of the boolean data type are `True` and `False. "
   ]
  },
  {
   "cell_type": "markdown",
   "id": "407e8b64",
   "metadata": {},
   "source": [
    "#### 2. What are the three different types of Boolean operators?\n",
    "\n",
    "ANS : There are three different types of boolean operators are `OR` , `AND` and `NOT`."
   ]
  },
  {
   "cell_type": "markdown",
   "id": "c621ae7e",
   "metadata": {},
   "source": [
    "#### 3. Make a list of each Boolean operator's truth tables (i.e. every possible combination of Boolean values for the operator and what it evaluate) ?\n",
    "Ans: The Truth tables for the boolean tables are as follows:\n",
    "\n",
    "Truth Table for `and` operaotor,\n",
    "True and True is True,\n",
    "True and False is False,\n",
    "False and True is False,\n",
    "False and False is False,\n",
    "\n",
    "Truth Table for `or` operaotor,\n",
    "True and True is True,\n",
    "True and False is True,\n",
    "False and True is True,\n",
    "False and False is False,\n",
    "\n",
    "Truth Table for `not` operaotor,\n",
    "True not is False False not is True."
   ]
  },
  {
   "cell_type": "markdown",
   "id": "d67d9be0",
   "metadata": {},
   "source": [
    "#### 4. What are the values of the following expressions ?\n",
    "(5 > 4) and (3 == 5)\n",
    "not (5 > 4)\n",
    "(5 > 4) or (3 == 5)\n",
    "not ((5 > 4) or (3 == 5))\n",
    "(True and True) and (True == False)\n",
    "(not False) or (not True)\n",
    "\n",
    "ANS: "
   ]
  },
  {
   "cell_type": "code",
   "execution_count": 2,
   "id": "389e8941",
   "metadata": {},
   "outputs": [
    {
     "name": "stdout",
     "output_type": "stream",
     "text": [
      "False\n",
      "False\n",
      "True\n",
      "False\n",
      "False\n",
      "True\n"
     ]
    }
   ],
   "source": [
    "print((5 > 4) and (3 == 5)) #False\n",
    "print(not (5 > 4)) #False\n",
    "print((5 > 4) or (3 == 5)) #True\n",
    "print(not ((5 > 4) or (3 == 5))) #False\n",
    "print((True and True) and (True == False)) #False\n",
    "print((not False) or (not True)) #True"
   ]
  },
  {
   "cell_type": "markdown",
   "id": "3571ac06",
   "metadata": {},
   "source": [
    "#### 6. What are the six comparison operators?\n",
    "\n",
    "ANS: The six comparison operators: less than `( < )`, less than or equal to `( <= )`, greater than `( > )`, greater than or equal to `( >= )`, equal to `( == )`, and not equal to `( != )`."
   ]
  },
  {
   "cell_type": "markdown",
   "id": "42944a29",
   "metadata": {},
   "source": [
    "#### 6. How do you tell the difference between the equal to and assignment operators?Describe a condition and when you would use one.\n",
    "\n",
    "ANS : The `“=”` is an assignment operator is used to assign the value on the right to the variable on the left. The `'=='` operator checks whether the two given operands are equal or not."
   ]
  },
  {
   "cell_type": "code",
   "execution_count": 4,
   "id": "dc410507",
   "metadata": {},
   "outputs": [
    {
     "name": "stdout",
     "output_type": "stream",
     "text": [
      "True\n"
     ]
    }
   ],
   "source": [
    "df = 4\n",
    "if df == 4:\n",
    "    print(df==4)"
   ]
  },
  {
   "cell_type": "markdown",
   "id": "fe211849",
   "metadata": {},
   "source": [
    "#### 7. Identify the three blocks in this code:\n",
    "spam = 0                                                                                                                        if spam == 10:                                                                                                                print('eggs')                                                                                                                    if spam > 5:                                                                                                               print('bacon')                                                                                                                 else:                                                                                                                          print('ham')                                                                                                                print('spam')                                                                                                                print('spam')\n",
    "\n",
    "ANS :  In Python, code block refers to a collection of code that is in the same block or indent. This is most commonly found in classes, functions, and loops."
   ]
  },
  {
   "cell_type": "code",
   "execution_count": 7,
   "id": "796287e3",
   "metadata": {},
   "outputs": [
    {
     "name": "stdout",
     "output_type": "stream",
     "text": [
      "ham\n",
      "spam\n",
      "spam\n"
     ]
    }
   ],
   "source": [
    "spam = 0\n",
    "if spam == 10: #first block\n",
    "    print('eggs')\n",
    "if spam > 5: #second block\n",
    "    print('bacon')\n",
    "else:        #Third block\n",
    "    print('ham')\n",
    "    print('spam')\n",
    "    print('spam')"
   ]
  },
  {
   "cell_type": "markdown",
   "id": "325216c9",
   "metadata": {},
   "source": [
    "#### 8. Write code that prints Hello if 1 is stored in spam, prints Howdy if 2 is stored in spam, and printsGreetings! if anything else is stored in spam."
   ]
  },
  {
   "cell_type": "code",
   "execution_count": 11,
   "id": "84147ff6",
   "metadata": {},
   "outputs": [],
   "source": [
    "#ANS:\n",
    "\n",
    "def spamcode(spam):\n",
    "    if spam == 1:\n",
    "        print(\"Hello\")\n",
    "    elif spam == 2:\n",
    "        print(\"Howdy\")\n",
    "    else :\n",
    "        print(\"Greetings\")"
   ]
  },
  {
   "cell_type": "code",
   "execution_count": 13,
   "id": "661821a8",
   "metadata": {},
   "outputs": [
    {
     "name": "stdout",
     "output_type": "stream",
     "text": [
      "Hello\n",
      "Howdy\n",
      "Greetings\n"
     ]
    }
   ],
   "source": [
    "spamcode(1)\n",
    "spamcode(2)\n",
    "spamcode(3)"
   ]
  },
  {
   "cell_type": "markdown",
   "id": "1362b9fd",
   "metadata": {},
   "source": [
    "#### 9.If your programme is stuck in an endless loop, what keys you’ll press?\n",
    "\n",
    "Ans: Press `Ctrl-c` to stop a program stuck in an infinite loop"
   ]
  },
  {
   "cell_type": "markdown",
   "id": "f53501c9",
   "metadata": {},
   "source": [
    "#### 10. How can you tell the difference between break and continue?\n",
    "\n",
    "ANS: `break` statement: This statement terminates the smallest enclosing loop (i.e., while, do-while, for loop, or switch statement)\n",
    "    \n",
    "`continue` statement: This statement skips the rest of the loop statement and starts the next iteration of the loop to take place."
   ]
  },
  {
   "cell_type": "markdown",
   "id": "48a577d7",
   "metadata": {},
   "source": [
    "#### 11. In a for loop, what is the difference between range(10), range(0, 10), and range(0, 10, 1)?\n",
    "\n",
    "ANS:\n",
    "\n",
    "range(10) #ranges between 0 to 9 excluding 10; \n",
    "\n",
    "range (0,10) #explicitly tells the loop to start at 0; \n",
    "\n",
    "range(0,10,1) #explicitly tells the loop to increase the variable by 1 on each iteration"
   ]
  },
  {
   "cell_type": "code",
   "execution_count": 24,
   "id": "ac632092",
   "metadata": {},
   "outputs": [
    {
     "name": "stdout",
     "output_type": "stream",
     "text": [
      "0\n",
      "1\n",
      "2\n",
      "3\n",
      "4\n",
      "5\n",
      "6\n",
      "7\n",
      "8\n",
      "9\n"
     ]
    }
   ],
   "source": [
    "for i in range(10):\n",
    "    print(i)"
   ]
  },
  {
   "cell_type": "code",
   "execution_count": 23,
   "id": "b9986d5e",
   "metadata": {},
   "outputs": [
    {
     "name": "stdout",
     "output_type": "stream",
     "text": [
      "0\n",
      "1\n",
      "2\n",
      "3\n",
      "4\n",
      "5\n",
      "6\n",
      "7\n",
      "8\n",
      "9\n"
     ]
    }
   ],
   "source": [
    "for i in range(0,10):\n",
    "    print(i)"
   ]
  },
  {
   "cell_type": "code",
   "execution_count": 25,
   "id": "1ba0d356",
   "metadata": {},
   "outputs": [
    {
     "name": "stdout",
     "output_type": "stream",
     "text": [
      "0\n",
      "1\n",
      "2\n",
      "3\n",
      "4\n",
      "5\n",
      "6\n",
      "7\n",
      "8\n",
      "9\n"
     ]
    }
   ],
   "source": [
    "for i in range(0,10,1):\n",
    "    print(i)"
   ]
  },
  {
   "cell_type": "markdown",
   "id": "7354ad8c",
   "metadata": {},
   "source": [
    "#### 12. Write a short program that prints the numbers 1 to 10 using a for loop. Then write an equivalent\n",
    "program that prints the numbers 1 to 10 using a while loop."
   ]
  },
  {
   "cell_type": "code",
   "execution_count": 27,
   "id": "bf141a6c",
   "metadata": {},
   "outputs": [
    {
     "name": "stdout",
     "output_type": "stream",
     "text": [
      "---------- using for loop ----------\n",
      "1 2 3 4 5 6 7 8 9 10 "
     ]
    }
   ],
   "source": [
    "print(\"-\"*10, \"using for loop\" ,\"-\"*10)\n",
    "for i in range(1,11):\n",
    "    print(i, end = \" \")"
   ]
  },
  {
   "cell_type": "code",
   "execution_count": 3,
   "id": "2954ba5f",
   "metadata": {},
   "outputs": [
    {
     "name": "stdout",
     "output_type": "stream",
     "text": [
      "---------- using while loop ----------\n",
      "1 2 3 4 5 6 7 8 9 10 "
     ]
    }
   ],
   "source": [
    "print(\"-\"*10, \"using while loop\",\"-\"*10)\n",
    "i=1\n",
    "while i<=10:\n",
    "    print(i, end = \" \")\n",
    "    i+=1\n",
    "          "
   ]
  },
  {
   "cell_type": "markdown",
   "id": "b8daad5c",
   "metadata": {},
   "source": [
    "#### 13. If you had a function named bacon() inside a module named spam, how would you call it after\n",
    "importing spam?\n",
    "\n",
    "ANS : This function can be called with `spam. bacon()`."
   ]
  },
  {
   "cell_type": "code",
   "execution_count": null,
   "id": "db08c90c",
   "metadata": {},
   "outputs": [],
   "source": []
  }
 ],
 "metadata": {
  "kernelspec": {
   "display_name": "Python 3",
   "language": "python",
   "name": "python3"
  },
  "language_info": {
   "codemirror_mode": {
    "name": "ipython",
    "version": 3
   },
   "file_extension": ".py",
   "mimetype": "text/x-python",
   "name": "python",
   "nbconvert_exporter": "python",
   "pygments_lexer": "ipython3",
   "version": "3.8.8"
  }
 },
 "nbformat": 4,
 "nbformat_minor": 5
}
